{
 "cells": [
  {
   "attachments": {},
   "cell_type": "markdown",
   "metadata": {},
   "source": [
    "## Optimizing Software Engineering Practices with Generative AI\n",
    "In the world of software development, Generative AI has been a topic of both excitement and concern. Its potential to automate and enhance various aspects of the development process raises questions about its impact on the developer community. As developers, it is crucial to understand the reality behind the perceived threat and explore how Generative AI can be effectively utilized in real-world project scenarios.\n",
    "\n",
    "In this blog series, we embarked on an experiment to develop a time tracking application using Generative AI tools. Our objective was to gain insights into the capabilities and limitations of Generative AI in different phases of software engineering. By diving into each phase, from business analysis to infrastructure, we aimed to uncover the potential applications and challenges of integrating Generative AI into the development workflow.\n",
    "![](./sw_engineering_practices.png)\n",
    "\n",
    "## Method of Experimentation:\n",
    "\n",
    "To conduct our experiment, we leveraged the deep learning expertise of deeplearning.ai's [prompt engineering course](https://learn.deeplearning.ai/chatgpt-prompt-eng).Prompt engineering involves designing prompts for large language models to generate desired outputs. Developers can utilize OpenAI's API to interact with the models and apply prompt engineering techniques, enabling the creation of robust and effective prompts that interface with language models and other tools. Jupyter Notebooks served as our primary tool for generating prompts, while OpenAI's powerful gpt-3.5-turbo model with chat completion’s endpoint in python provided the backbone of our AI-powered development process.\n",
    "\n",
    "We followed a systematic approach, focusing on each phase of software engineering, to assess how Generative AI tools could be incorporated. Our journey began with business analysis, where we employed Chat GPT to identify high-level business objectives for our time tracking application. Subsequently, we utilized prompt engineering techniques to figure out what could be the tech stack and architecture etc. By employing GPT-3.5's chat completion API, we engaged in interactive conversations, swiftly generating ideas and high-level requirements to kickstart the analysis process.\n",
    "\n",
    "Throughout this series of blogs, we will share our findings and experiences from each phase, shedding light on the possibilities and considerations when integrating Generative AI into the software development lifecycle. By doing so, we aim to provide the community with insights for harnessing the potential of Generative AI effectively.\n",
    "\n",
    "Stay tuned as we delve deeper into each phase and uncover the transformative power of Generative AI in software development.\n"
   ]
  }
 ],
 "metadata": {
  "language_info": {
   "name": "python"
  },
  "orig_nbformat": 4
 },
 "nbformat": 4,
 "nbformat_minor": 2
}
