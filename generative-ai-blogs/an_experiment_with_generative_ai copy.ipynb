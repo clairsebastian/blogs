{
 "cells": [
  {
   "attachments": {},
   "cell_type": "markdown",
   "metadata": {},
   "source": [
    "We have been hearing about the threat Generative AI poses to the developer community. As a developer, It is important to know how much of this threat is real. So we did an exercise to understand how generative ai and the tools around it can be used in real project scenarios.\n",
    "\n",
    "Software engineering practices has mainly these phases:\n",
    "1. Business Analysis\n",
    "2. Design and Architecture\n",
    "3. Code\n",
    "4. Security\n",
    "5. Documentation\n",
    "6. Testing\n",
    "7. Infrastructure\n",
    "\n",
    "<img src=\"./sw_engineering_practices.png\"  width=\"60%\">\n",
    "\n",
    "\n",
    "So we decided to develop a simple application with the help of Generative AI tools to understand how and where it can be used these phases. We decided to develop a time tracking application for employees to track their time on projects.\n",
    "\n",
    "We went through the [deeplearning.ai’s prompt engineering course](https://learn.deeplearning.ai/chatgpt-prompt-eng) before going down this path. We used OpenAI's gpt-3.5-turbo LLM model with chat completions endpoint for doing this excercise.\n",
    "\n",
    "We will try to follow up with a blog on each of these phases and what are our findings.\n"
   ]
  }
 ],
 "metadata": {
  "language_info": {
   "name": "python"
  },
  "orig_nbformat": 4
 },
 "nbformat": 4,
 "nbformat_minor": 2
}
